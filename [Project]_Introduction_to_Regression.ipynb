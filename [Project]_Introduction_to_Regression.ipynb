{
  "nbformat": 4,
  "nbformat_minor": 0,
  "metadata": {
    "colab": {
      "name": "[Project] Introduction to Regression.ipynb",
      "provenance": [],
      "collapsed_sections": [],
      "toc_visible": true
    },
    "kernelspec": {
      "name": "python3",
      "display_name": "Python 3"
    },
    "language_info": {
      "name": "python"
    }
  },
  "cells": [
    {
      "cell_type": "markdown",
      "source": [
        "## Defining the Question"
      ],
      "metadata": {
        "id": "XQzFN3xKek2o"
      }
    },
    {
      "cell_type": "markdown",
      "source": [
        "#### Context"
      ],
      "metadata": {
        "id": "lNH6n3bOe3-x"
      }
    },
    {
      "cell_type": "markdown",
      "source": [
        "Mobile carrier Megaline has found out that many of their subscribers use legacy plans.\n",
        "They want to develop a model that would analyze subscribers' behavior and recommend\n",
        "one of Megaline's newer plans: Smart or Ultra.\n",
        "We have access to behavior data about subscribers who have already switched to the\n",
        "new plans. For this\n",
        "classification task, we will develop a model that will pick the right plan. The threshold for accuracy is 0.75."
      ],
      "metadata": {
        "id": "5-scL9HtfGfC"
      }
    },
    {
      "cell_type": "markdown",
      "source": [
        "#### Metric of success"
      ],
      "metadata": {
        "id": "KIu7zguBe755"
      }
    },
    {
      "cell_type": "markdown",
      "source": [
        "A model that will recommend the right plan"
      ],
      "metadata": {
        "id": "beQjJklWfZdF"
      }
    },
    {
      "cell_type": "markdown",
      "source": [
        "#### Solution steps"
      ],
      "metadata": {
        "id": "GaKr41AprJdR"
      }
    },
    {
      "cell_type": "markdown",
      "source": [
        "1. Import libraries\n",
        "2. Data exploration: load data, preview and explore data, check for and handle missing values and duplicates, fix inconsistent column names if any\n",
        "2. Data preparation: prepare data for use in model training\n",
        "3. Data modeling: create, train and evaluate the model\n",
        "4. Summarise findings and provide recommendations"
      ],
      "metadata": {
        "id": "vGA35WZgrW8X"
      }
    },
    {
      "cell_type": "markdown",
      "source": [
        "## Import Libraries"
      ],
      "metadata": {
        "id": "Wuic3xeZeq4K"
      }
    },
    {
      "cell_type": "code",
      "source": [
        "import pandas as pd\n",
        "\n",
        "from sklearn.tree import DecisionTreeClassifier\n",
        "from sklearn.ensemble import RandomForestClassifier\n",
        "from sklearn.linear_model import LogisticRegression\n",
        "from sklearn.model_selection import train_test_split\n",
        "from sklearn.preprocessing import StandardScaler\n",
        "from sklearn.model_selection import GridSearchCV\n",
        "from sklearn.metrics import classification_report, accuracy_score\n",
        "import warnings"
      ],
      "metadata": {
        "id": "pmCNLh09l26S"
      },
      "execution_count": 11,
      "outputs": []
    },
    {
      "cell_type": "code",
      "source": [
        "# suppress warnings\n",
        "warnings.filterwarnings('ignore')"
      ],
      "metadata": {
        "id": "RKXeJ-nyv2Su"
      },
      "execution_count": 30,
      "outputs": []
    },
    {
      "cell_type": "markdown",
      "source": [
        "## Data Exploration"
      ],
      "metadata": {
        "id": "TuqU5ulUwbm9"
      }
    },
    {
      "cell_type": "code",
      "source": [
        "# load dataset\n",
        "df = pd.read_csv('https://bit.ly/UsersBehaviourTelco')"
      ],
      "metadata": {
        "id": "lbaYnV3Jlxhw"
      },
      "execution_count": 2,
      "outputs": []
    },
    {
      "cell_type": "code",
      "source": [
        "# view a sample\n",
        "df.sample(10)"
      ],
      "metadata": {
        "colab": {
          "base_uri": "https://localhost:8080/",
          "height": 363
        },
        "id": "vJ2dBK7EmBQ9",
        "outputId": "4dc6e9a4-dc98-42f3-b9da-a91b5fb52daf"
      },
      "execution_count": 3,
      "outputs": [
        {
          "output_type": "execute_result",
          "data": {
            "text/plain": [
              "      calls  minutes  messages   mb_used  is_ultra\n",
              "2279   80.0   521.88       0.0  12851.66         0\n",
              "2846   78.0   485.98      28.0  22366.48         0\n",
              "731    47.0   273.60      60.0  24264.53         0\n",
              "2419    9.0    80.82       2.0  12122.99         0\n",
              "868   109.0   763.22      42.0  17236.50         0\n",
              "524    33.0   281.77      75.0  13933.01         1\n",
              "2119   26.0   172.87      16.0   6431.26         0\n",
              "2656   30.0   185.07      34.0  17166.53         0\n",
              "368    31.0   185.63     101.0  14344.72         0\n",
              "2416   45.0   286.43      47.0  15975.66         0"
            ],
            "text/html": [
              "\n",
              "  <div id=\"df-22e81841-7513-43a8-98b3-33109bcc0e21\">\n",
              "    <div class=\"colab-df-container\">\n",
              "      <div>\n",
              "<style scoped>\n",
              "    .dataframe tbody tr th:only-of-type {\n",
              "        vertical-align: middle;\n",
              "    }\n",
              "\n",
              "    .dataframe tbody tr th {\n",
              "        vertical-align: top;\n",
              "    }\n",
              "\n",
              "    .dataframe thead th {\n",
              "        text-align: right;\n",
              "    }\n",
              "</style>\n",
              "<table border=\"1\" class=\"dataframe\">\n",
              "  <thead>\n",
              "    <tr style=\"text-align: right;\">\n",
              "      <th></th>\n",
              "      <th>calls</th>\n",
              "      <th>minutes</th>\n",
              "      <th>messages</th>\n",
              "      <th>mb_used</th>\n",
              "      <th>is_ultra</th>\n",
              "    </tr>\n",
              "  </thead>\n",
              "  <tbody>\n",
              "    <tr>\n",
              "      <th>2279</th>\n",
              "      <td>80.0</td>\n",
              "      <td>521.88</td>\n",
              "      <td>0.0</td>\n",
              "      <td>12851.66</td>\n",
              "      <td>0</td>\n",
              "    </tr>\n",
              "    <tr>\n",
              "      <th>2846</th>\n",
              "      <td>78.0</td>\n",
              "      <td>485.98</td>\n",
              "      <td>28.0</td>\n",
              "      <td>22366.48</td>\n",
              "      <td>0</td>\n",
              "    </tr>\n",
              "    <tr>\n",
              "      <th>731</th>\n",
              "      <td>47.0</td>\n",
              "      <td>273.60</td>\n",
              "      <td>60.0</td>\n",
              "      <td>24264.53</td>\n",
              "      <td>0</td>\n",
              "    </tr>\n",
              "    <tr>\n",
              "      <th>2419</th>\n",
              "      <td>9.0</td>\n",
              "      <td>80.82</td>\n",
              "      <td>2.0</td>\n",
              "      <td>12122.99</td>\n",
              "      <td>0</td>\n",
              "    </tr>\n",
              "    <tr>\n",
              "      <th>868</th>\n",
              "      <td>109.0</td>\n",
              "      <td>763.22</td>\n",
              "      <td>42.0</td>\n",
              "      <td>17236.50</td>\n",
              "      <td>0</td>\n",
              "    </tr>\n",
              "    <tr>\n",
              "      <th>524</th>\n",
              "      <td>33.0</td>\n",
              "      <td>281.77</td>\n",
              "      <td>75.0</td>\n",
              "      <td>13933.01</td>\n",
              "      <td>1</td>\n",
              "    </tr>\n",
              "    <tr>\n",
              "      <th>2119</th>\n",
              "      <td>26.0</td>\n",
              "      <td>172.87</td>\n",
              "      <td>16.0</td>\n",
              "      <td>6431.26</td>\n",
              "      <td>0</td>\n",
              "    </tr>\n",
              "    <tr>\n",
              "      <th>2656</th>\n",
              "      <td>30.0</td>\n",
              "      <td>185.07</td>\n",
              "      <td>34.0</td>\n",
              "      <td>17166.53</td>\n",
              "      <td>0</td>\n",
              "    </tr>\n",
              "    <tr>\n",
              "      <th>368</th>\n",
              "      <td>31.0</td>\n",
              "      <td>185.63</td>\n",
              "      <td>101.0</td>\n",
              "      <td>14344.72</td>\n",
              "      <td>0</td>\n",
              "    </tr>\n",
              "    <tr>\n",
              "      <th>2416</th>\n",
              "      <td>45.0</td>\n",
              "      <td>286.43</td>\n",
              "      <td>47.0</td>\n",
              "      <td>15975.66</td>\n",
              "      <td>0</td>\n",
              "    </tr>\n",
              "  </tbody>\n",
              "</table>\n",
              "</div>\n",
              "      <button class=\"colab-df-convert\" onclick=\"convertToInteractive('df-22e81841-7513-43a8-98b3-33109bcc0e21')\"\n",
              "              title=\"Convert this dataframe to an interactive table.\"\n",
              "              style=\"display:none;\">\n",
              "        \n",
              "  <svg xmlns=\"http://www.w3.org/2000/svg\" height=\"24px\"viewBox=\"0 0 24 24\"\n",
              "       width=\"24px\">\n",
              "    <path d=\"M0 0h24v24H0V0z\" fill=\"none\"/>\n",
              "    <path d=\"M18.56 5.44l.94 2.06.94-2.06 2.06-.94-2.06-.94-.94-2.06-.94 2.06-2.06.94zm-11 1L8.5 8.5l.94-2.06 2.06-.94-2.06-.94L8.5 2.5l-.94 2.06-2.06.94zm10 10l.94 2.06.94-2.06 2.06-.94-2.06-.94-.94-2.06-.94 2.06-2.06.94z\"/><path d=\"M17.41 7.96l-1.37-1.37c-.4-.4-.92-.59-1.43-.59-.52 0-1.04.2-1.43.59L10.3 9.45l-7.72 7.72c-.78.78-.78 2.05 0 2.83L4 21.41c.39.39.9.59 1.41.59.51 0 1.02-.2 1.41-.59l7.78-7.78 2.81-2.81c.8-.78.8-2.07 0-2.86zM5.41 20L4 18.59l7.72-7.72 1.47 1.35L5.41 20z\"/>\n",
              "  </svg>\n",
              "      </button>\n",
              "      \n",
              "  <style>\n",
              "    .colab-df-container {\n",
              "      display:flex;\n",
              "      flex-wrap:wrap;\n",
              "      gap: 12px;\n",
              "    }\n",
              "\n",
              "    .colab-df-convert {\n",
              "      background-color: #E8F0FE;\n",
              "      border: none;\n",
              "      border-radius: 50%;\n",
              "      cursor: pointer;\n",
              "      display: none;\n",
              "      fill: #1967D2;\n",
              "      height: 32px;\n",
              "      padding: 0 0 0 0;\n",
              "      width: 32px;\n",
              "    }\n",
              "\n",
              "    .colab-df-convert:hover {\n",
              "      background-color: #E2EBFA;\n",
              "      box-shadow: 0px 1px 2px rgba(60, 64, 67, 0.3), 0px 1px 3px 1px rgba(60, 64, 67, 0.15);\n",
              "      fill: #174EA6;\n",
              "    }\n",
              "\n",
              "    [theme=dark] .colab-df-convert {\n",
              "      background-color: #3B4455;\n",
              "      fill: #D2E3FC;\n",
              "    }\n",
              "\n",
              "    [theme=dark] .colab-df-convert:hover {\n",
              "      background-color: #434B5C;\n",
              "      box-shadow: 0px 1px 3px 1px rgba(0, 0, 0, 0.15);\n",
              "      filter: drop-shadow(0px 1px 2px rgba(0, 0, 0, 0.3));\n",
              "      fill: #FFFFFF;\n",
              "    }\n",
              "  </style>\n",
              "\n",
              "      <script>\n",
              "        const buttonEl =\n",
              "          document.querySelector('#df-22e81841-7513-43a8-98b3-33109bcc0e21 button.colab-df-convert');\n",
              "        buttonEl.style.display =\n",
              "          google.colab.kernel.accessAllowed ? 'block' : 'none';\n",
              "\n",
              "        async function convertToInteractive(key) {\n",
              "          const element = document.querySelector('#df-22e81841-7513-43a8-98b3-33109bcc0e21');\n",
              "          const dataTable =\n",
              "            await google.colab.kernel.invokeFunction('convertToInteractive',\n",
              "                                                     [key], {});\n",
              "          if (!dataTable) return;\n",
              "\n",
              "          const docLinkHtml = 'Like what you see? Visit the ' +\n",
              "            '<a target=\"_blank\" href=https://colab.research.google.com/notebooks/data_table.ipynb>data table notebook</a>'\n",
              "            + ' to learn more about interactive tables.';\n",
              "          element.innerHTML = '';\n",
              "          dataTable['output_type'] = 'display_data';\n",
              "          await google.colab.output.renderOutput(dataTable, element);\n",
              "          const docLink = document.createElement('div');\n",
              "          docLink.innerHTML = docLinkHtml;\n",
              "          element.appendChild(docLink);\n",
              "        }\n",
              "      </script>\n",
              "    </div>\n",
              "  </div>\n",
              "  "
            ]
          },
          "metadata": {},
          "execution_count": 3
        }
      ]
    },
    {
      "cell_type": "code",
      "source": [
        "# check column and row sizes\n",
        "df.shape"
      ],
      "metadata": {
        "colab": {
          "base_uri": "https://localhost:8080/"
        },
        "id": "214wckX3mUHV",
        "outputId": "556c322c-b1a7-419b-dc3a-26ecf6536030"
      },
      "execution_count": 4,
      "outputs": [
        {
          "output_type": "execute_result",
          "data": {
            "text/plain": [
              "(3214, 5)"
            ]
          },
          "metadata": {},
          "execution_count": 4
        }
      ]
    },
    {
      "cell_type": "code",
      "source": [
        "# check for missing values\n",
        "df.isnull().sum()"
      ],
      "metadata": {
        "colab": {
          "base_uri": "https://localhost:8080/"
        },
        "id": "nlS-LUGOmWnu",
        "outputId": "13f6cbfc-ef52-4796-c395-7055a59d3d41"
      },
      "execution_count": 5,
      "outputs": [
        {
          "output_type": "execute_result",
          "data": {
            "text/plain": [
              "calls       0\n",
              "minutes     0\n",
              "messages    0\n",
              "mb_used     0\n",
              "is_ultra    0\n",
              "dtype: int64"
            ]
          },
          "metadata": {},
          "execution_count": 5
        }
      ]
    },
    {
      "cell_type": "code",
      "source": [
        "# check feature datatypes\n",
        "df.dtypes"
      ],
      "metadata": {
        "colab": {
          "base_uri": "https://localhost:8080/"
        },
        "id": "ES36_Q9MmaF0",
        "outputId": "ae40aa5b-8a04-4401-e8af-274bab5ae43a"
      },
      "execution_count": 6,
      "outputs": [
        {
          "output_type": "execute_result",
          "data": {
            "text/plain": [
              "calls       float64\n",
              "minutes     float64\n",
              "messages    float64\n",
              "mb_used     float64\n",
              "is_ultra      int64\n",
              "dtype: object"
            ]
          },
          "metadata": {},
          "execution_count": 6
        }
      ]
    },
    {
      "cell_type": "code",
      "source": [
        "# check unique values in is_ultra column\n",
        "df['is_ultra'].value_counts()"
      ],
      "metadata": {
        "colab": {
          "base_uri": "https://localhost:8080/"
        },
        "id": "umVxlTeNmfc9",
        "outputId": "f508565b-fb04-4d34-c9b3-97825c097a54"
      },
      "execution_count": 9,
      "outputs": [
        {
          "output_type": "execute_result",
          "data": {
            "text/plain": [
              "0    2229\n",
              "1     985\n",
              "Name: is_ultra, dtype: int64"
            ]
          },
          "metadata": {},
          "execution_count": 9
        }
      ]
    },
    {
      "cell_type": "code",
      "source": [
        "# check for duplicates\n",
        "df.duplicated().sum()"
      ],
      "metadata": {
        "colab": {
          "base_uri": "https://localhost:8080/"
        },
        "id": "6c97_p5Zsh_i",
        "outputId": "8341b892-57f4-4a68-a107-f5ca963b1e2b"
      },
      "execution_count": 10,
      "outputs": [
        {
          "output_type": "execute_result",
          "data": {
            "text/plain": [
              "0"
            ]
          },
          "metadata": {},
          "execution_count": 10
        }
      ]
    },
    {
      "cell_type": "code",
      "source": [
        "# correlation matrix\n",
        "df.corr()"
      ],
      "metadata": {
        "colab": {
          "base_uri": "https://localhost:8080/",
          "height": 206
        },
        "id": "vnshWmM5xJ5o",
        "outputId": "9efe827e-b7ac-4bf6-b0e8-811c6729947b"
      },
      "execution_count": 12,
      "outputs": [
        {
          "output_type": "execute_result",
          "data": {
            "text/plain": [
              "             calls   minutes  messages   mb_used  is_ultra\n",
              "calls     1.000000  0.982083  0.177385  0.286442  0.207122\n",
              "minutes   0.982083  1.000000  0.173110  0.280967  0.206955\n",
              "messages  0.177385  0.173110  1.000000  0.195721  0.203830\n",
              "mb_used   0.286442  0.280967  0.195721  1.000000  0.198568\n",
              "is_ultra  0.207122  0.206955  0.203830  0.198568  1.000000"
            ],
            "text/html": [
              "\n",
              "  <div id=\"df-860b023c-8554-4129-b794-9f1e782ed123\">\n",
              "    <div class=\"colab-df-container\">\n",
              "      <div>\n",
              "<style scoped>\n",
              "    .dataframe tbody tr th:only-of-type {\n",
              "        vertical-align: middle;\n",
              "    }\n",
              "\n",
              "    .dataframe tbody tr th {\n",
              "        vertical-align: top;\n",
              "    }\n",
              "\n",
              "    .dataframe thead th {\n",
              "        text-align: right;\n",
              "    }\n",
              "</style>\n",
              "<table border=\"1\" class=\"dataframe\">\n",
              "  <thead>\n",
              "    <tr style=\"text-align: right;\">\n",
              "      <th></th>\n",
              "      <th>calls</th>\n",
              "      <th>minutes</th>\n",
              "      <th>messages</th>\n",
              "      <th>mb_used</th>\n",
              "      <th>is_ultra</th>\n",
              "    </tr>\n",
              "  </thead>\n",
              "  <tbody>\n",
              "    <tr>\n",
              "      <th>calls</th>\n",
              "      <td>1.000000</td>\n",
              "      <td>0.982083</td>\n",
              "      <td>0.177385</td>\n",
              "      <td>0.286442</td>\n",
              "      <td>0.207122</td>\n",
              "    </tr>\n",
              "    <tr>\n",
              "      <th>minutes</th>\n",
              "      <td>0.982083</td>\n",
              "      <td>1.000000</td>\n",
              "      <td>0.173110</td>\n",
              "      <td>0.280967</td>\n",
              "      <td>0.206955</td>\n",
              "    </tr>\n",
              "    <tr>\n",
              "      <th>messages</th>\n",
              "      <td>0.177385</td>\n",
              "      <td>0.173110</td>\n",
              "      <td>1.000000</td>\n",
              "      <td>0.195721</td>\n",
              "      <td>0.203830</td>\n",
              "    </tr>\n",
              "    <tr>\n",
              "      <th>mb_used</th>\n",
              "      <td>0.286442</td>\n",
              "      <td>0.280967</td>\n",
              "      <td>0.195721</td>\n",
              "      <td>1.000000</td>\n",
              "      <td>0.198568</td>\n",
              "    </tr>\n",
              "    <tr>\n",
              "      <th>is_ultra</th>\n",
              "      <td>0.207122</td>\n",
              "      <td>0.206955</td>\n",
              "      <td>0.203830</td>\n",
              "      <td>0.198568</td>\n",
              "      <td>1.000000</td>\n",
              "    </tr>\n",
              "  </tbody>\n",
              "</table>\n",
              "</div>\n",
              "      <button class=\"colab-df-convert\" onclick=\"convertToInteractive('df-860b023c-8554-4129-b794-9f1e782ed123')\"\n",
              "              title=\"Convert this dataframe to an interactive table.\"\n",
              "              style=\"display:none;\">\n",
              "        \n",
              "  <svg xmlns=\"http://www.w3.org/2000/svg\" height=\"24px\"viewBox=\"0 0 24 24\"\n",
              "       width=\"24px\">\n",
              "    <path d=\"M0 0h24v24H0V0z\" fill=\"none\"/>\n",
              "    <path d=\"M18.56 5.44l.94 2.06.94-2.06 2.06-.94-2.06-.94-.94-2.06-.94 2.06-2.06.94zm-11 1L8.5 8.5l.94-2.06 2.06-.94-2.06-.94L8.5 2.5l-.94 2.06-2.06.94zm10 10l.94 2.06.94-2.06 2.06-.94-2.06-.94-.94-2.06-.94 2.06-2.06.94z\"/><path d=\"M17.41 7.96l-1.37-1.37c-.4-.4-.92-.59-1.43-.59-.52 0-1.04.2-1.43.59L10.3 9.45l-7.72 7.72c-.78.78-.78 2.05 0 2.83L4 21.41c.39.39.9.59 1.41.59.51 0 1.02-.2 1.41-.59l7.78-7.78 2.81-2.81c.8-.78.8-2.07 0-2.86zM5.41 20L4 18.59l7.72-7.72 1.47 1.35L5.41 20z\"/>\n",
              "  </svg>\n",
              "      </button>\n",
              "      \n",
              "  <style>\n",
              "    .colab-df-container {\n",
              "      display:flex;\n",
              "      flex-wrap:wrap;\n",
              "      gap: 12px;\n",
              "    }\n",
              "\n",
              "    .colab-df-convert {\n",
              "      background-color: #E8F0FE;\n",
              "      border: none;\n",
              "      border-radius: 50%;\n",
              "      cursor: pointer;\n",
              "      display: none;\n",
              "      fill: #1967D2;\n",
              "      height: 32px;\n",
              "      padding: 0 0 0 0;\n",
              "      width: 32px;\n",
              "    }\n",
              "\n",
              "    .colab-df-convert:hover {\n",
              "      background-color: #E2EBFA;\n",
              "      box-shadow: 0px 1px 2px rgba(60, 64, 67, 0.3), 0px 1px 3px 1px rgba(60, 64, 67, 0.15);\n",
              "      fill: #174EA6;\n",
              "    }\n",
              "\n",
              "    [theme=dark] .colab-df-convert {\n",
              "      background-color: #3B4455;\n",
              "      fill: #D2E3FC;\n",
              "    }\n",
              "\n",
              "    [theme=dark] .colab-df-convert:hover {\n",
              "      background-color: #434B5C;\n",
              "      box-shadow: 0px 1px 3px 1px rgba(0, 0, 0, 0.15);\n",
              "      filter: drop-shadow(0px 1px 2px rgba(0, 0, 0, 0.3));\n",
              "      fill: #FFFFFF;\n",
              "    }\n",
              "  </style>\n",
              "\n",
              "      <script>\n",
              "        const buttonEl =\n",
              "          document.querySelector('#df-860b023c-8554-4129-b794-9f1e782ed123 button.colab-df-convert');\n",
              "        buttonEl.style.display =\n",
              "          google.colab.kernel.accessAllowed ? 'block' : 'none';\n",
              "\n",
              "        async function convertToInteractive(key) {\n",
              "          const element = document.querySelector('#df-860b023c-8554-4129-b794-9f1e782ed123');\n",
              "          const dataTable =\n",
              "            await google.colab.kernel.invokeFunction('convertToInteractive',\n",
              "                                                     [key], {});\n",
              "          if (!dataTable) return;\n",
              "\n",
              "          const docLinkHtml = 'Like what you see? Visit the ' +\n",
              "            '<a target=\"_blank\" href=https://colab.research.google.com/notebooks/data_table.ipynb>data table notebook</a>'\n",
              "            + ' to learn more about interactive tables.';\n",
              "          element.innerHTML = '';\n",
              "          dataTable['output_type'] = 'display_data';\n",
              "          await google.colab.output.renderOutput(dataTable, element);\n",
              "          const docLink = document.createElement('div');\n",
              "          docLink.innerHTML = docLinkHtml;\n",
              "          element.appendChild(docLink);\n",
              "        }\n",
              "      </script>\n",
              "    </div>\n",
              "  </div>\n",
              "  "
            ]
          },
          "metadata": {},
          "execution_count": 12
        }
      ]
    },
    {
      "cell_type": "markdown",
      "source": [
        "## Data Preparation"
      ],
      "metadata": {
        "id": "yEW0TOEowCwX"
      }
    },
    {
      "cell_type": "markdown",
      "source": [
        "Set target and features"
      ],
      "metadata": {
        "id": "K6W4RfA9zdxQ"
      }
    },
    {
      "cell_type": "code",
      "source": [
        "features = df.drop(['is_ultra'], axis=1)\n",
        "target = df['is_ultra']"
      ],
      "metadata": {
        "id": "X0A-HjRnwHVK"
      },
      "execution_count": 13,
      "outputs": []
    },
    {
      "cell_type": "markdown",
      "source": [
        "Standardize features"
      ],
      "metadata": {
        "id": "RP8Lj1tTzOlq"
      }
    },
    {
      "cell_type": "code",
      "source": [
        "scaler = StandardScaler()\n",
        "features  = scaler.fit_transform(features)"
      ],
      "metadata": {
        "id": "UrN-AkruzKna"
      },
      "execution_count": 15,
      "outputs": []
    },
    {
      "cell_type": "markdown",
      "source": [
        "Split data into training and testing sets"
      ],
      "metadata": {
        "id": "ch3b6jmgtXdY"
      }
    },
    {
      "cell_type": "code",
      "source": [
        "features_train, features_test, target_train, target_test = train_test_split(features, target, test_size = 0.2, random_state = 0)"
      ],
      "metadata": {
        "id": "QxiQpYrfymII"
      },
      "execution_count": 16,
      "outputs": []
    },
    {
      "cell_type": "markdown",
      "source": [
        "## Data Modeling"
      ],
      "metadata": {
        "id": "-PfUkEfWeqR6"
      }
    },
    {
      "cell_type": "markdown",
      "source": [
        "#### Train decision tree model"
      ],
      "metadata": {
        "id": "Jw_KIfvPzzul"
      }
    },
    {
      "cell_type": "code",
      "source": [
        "# find oout which parameters are optimal\n",
        "for i in range (1,10):\n",
        "  decision_classifier = DecisionTreeClassifier(max_depth = i, random_state = 12345)\n",
        "  decision_classifier.fit(features_train, target_train)\n",
        "  predictions = decision_classifier.predict(features_test) \n",
        "  score = decision_classifier.score(features_test, target_test)\n",
        "  print('Score: {}, Depth: {}'.format(score, i))"
      ],
      "metadata": {
        "colab": {
          "base_uri": "https://localhost:8080/"
        },
        "id": "1dAUuzOvtWAk",
        "outputId": "d12942ad-e3c2-4feb-90c0-ad0a4e671e89"
      },
      "execution_count": 20,
      "outputs": [
        {
          "output_type": "stream",
          "name": "stdout",
          "text": [
            "Score: 0.7480559875583204, Depth: 1\n",
            "Score: 0.7791601866251944, Depth: 2\n",
            "Score: 0.7853810264385692, Depth: 3\n",
            "Score: 0.7822706065318819, Depth: 4\n",
            "Score: 0.7822706065318819, Depth: 5\n",
            "Score: 0.7900466562986003, Depth: 6\n",
            "Score: 0.7978227060653188, Depth: 7\n",
            "Score: 0.7900466562986003, Depth: 8\n",
            "Score: 0.7884914463452566, Depth: 9\n"
          ]
        }
      ]
    },
    {
      "cell_type": "code",
      "source": [
        "# use the optimal max depth\n",
        "decision_classifier = DecisionTreeClassifier(max_depth = 7, random_state = 12345)\n",
        "decision_classifier.fit(features_train, target_train)\n",
        "score = decision_classifier.score(features_test, target_test)\n",
        "print('Score: {}'.format(score))"
      ],
      "metadata": {
        "colab": {
          "base_uri": "https://localhost:8080/"
        },
        "id": "cYCT5oWl28oX",
        "outputId": "1d92d7f8-a18e-4af5-e4ef-711db6def7e7"
      },
      "execution_count": 28,
      "outputs": [
        {
          "output_type": "stream",
          "name": "stdout",
          "text": [
            "Score: 0.7978227060653188\n"
          ]
        }
      ]
    },
    {
      "cell_type": "markdown",
      "source": [
        "#### Train random forest model"
      ],
      "metadata": {
        "id": "ZQ-qgJYl5BUh"
      }
    },
    {
      "cell_type": "code",
      "source": [
        "# find oout which parameters are optimal\n",
        "for i in range(1,15):\n",
        "  random_classifier = RandomForestClassifier(n_estimators = i, max_depth = 6, random_state = 12345)\n",
        "  random_classifier.fit(features_train, target_train)\n",
        "  score = random_classifier.score(features_test, target_test)\n",
        "  print('Score: {}, Estimator: {}'.format(score, i))"
      ],
      "metadata": {
        "colab": {
          "base_uri": "https://localhost:8080/"
        },
        "id": "PRpItZgL5ETH",
        "outputId": "ce3895de-5cc2-4881-fac0-39b9a531b46e"
      },
      "execution_count": 25,
      "outputs": [
        {
          "output_type": "stream",
          "name": "stdout",
          "text": [
            "Score: 0.7822706065318819, Estimator: 1\n",
            "Score: 0.776049766718507, Estimator: 2\n",
            "Score: 0.7962674961119751, Estimator: 3\n",
            "Score: 0.7931570762052877, Estimator: 4\n",
            "Score: 0.7916018662519441, Estimator: 5\n",
            "Score: 0.7916018662519441, Estimator: 6\n",
            "Score: 0.7978227060653188, Estimator: 7\n",
            "Score: 0.8087091757387247, Estimator: 8\n",
            "Score: 0.8009331259720062, Estimator: 9\n",
            "Score: 0.80248833592535, Estimator: 10\n",
            "Score: 0.7993779160186625, Estimator: 11\n",
            "Score: 0.8009331259720062, Estimator: 12\n",
            "Score: 0.80248833592535, Estimator: 13\n",
            "Score: 0.80248833592535, Estimator: 14\n"
          ]
        }
      ]
    },
    {
      "cell_type": "code",
      "source": [
        "# use the optimal parameters\n",
        "random_classifier = RandomForestClassifier(n_estimators = 8, max_depth = 6, random_state = 12345)\n",
        "random_classifier.fit(features_train, target_train)\n",
        "score = random_classifier.score(features_test, target_test)\n",
        "print('Score: {}'.format(score))"
      ],
      "metadata": {
        "colab": {
          "base_uri": "https://localhost:8080/"
        },
        "id": "qa-eX-G17QOa",
        "outputId": "430974e9-b7c1-4402-94c7-1cad73c8ea67"
      },
      "execution_count": 27,
      "outputs": [
        {
          "output_type": "stream",
          "name": "stdout",
          "text": [
            "Score: 0.8087091757387247\n"
          ]
        }
      ]
    },
    {
      "cell_type": "markdown",
      "source": [
        "#### Train logistic regression model"
      ],
      "metadata": {
        "id": "-899qfTW7rRo"
      }
    },
    {
      "cell_type": "code",
      "source": [
        "# find oout which parameters are optimal\n",
        "params_grid = {'C':[0.001,0.01,0.1,1,10], 'penalty':['l1', 'l2']}\n",
        "logistic_regression = LogisticRegression(random_state=0)\n",
        "\n",
        "gd_sr_cl = GridSearchCV(estimator = logistic_regression, param_grid = params_grid, scoring = 'accuracy', cv = 5, n_jobs =-1)\n",
        "gd_sr_cl.fit(features_train, target_train)\n",
        "\n",
        "print(gd_sr_cl.best_params_)"
      ],
      "metadata": {
        "colab": {
          "base_uri": "https://localhost:8080/"
        },
        "id": "MDh0MFNS7v6l",
        "outputId": "8a4abeb8-1343-40dc-95fc-6344efb0e333"
      },
      "execution_count": 31,
      "outputs": [
        {
          "output_type": "stream",
          "name": "stdout",
          "text": [
            "{'C': 0.1, 'penalty': 'l2'}\n"
          ]
        }
      ]
    },
    {
      "cell_type": "code",
      "source": [
        "# use the optimal parameters\n",
        "logistic_regression = LogisticRegression(C = 0.1, penalty = 'l2', random_state=0)\n",
        "logistic_regression.fit(features_train,target_train)\n",
        "score = logistic_regression.score(features_test, target_test)\n",
        "print('Score: {}'.format(score))"
      ],
      "metadata": {
        "colab": {
          "base_uri": "https://localhost:8080/"
        },
        "id": "ciPJOHCr8xjI",
        "outputId": "4d561837-ec9c-4aa4-8658-3f51d743478e"
      },
      "execution_count": 33,
      "outputs": [
        {
          "output_type": "stream",
          "name": "stdout",
          "text": [
            "Score: 0.7651632970451011\n"
          ]
        }
      ]
    },
    {
      "cell_type": "markdown",
      "source": [
        "Random Forest Classifier had the **best** accuracy score of 80%\n",
        "\n",
        "Decision Tree Classifier had the second best accuracy score of 79%\n",
        "\n",
        "Logic Regression had the least accuracy score of 76%"
      ],
      "metadata": {
        "id": "J_sm4ioUDwrA"
      }
    },
    {
      "cell_type": "markdown",
      "source": [
        "#### Evaluate the best model: random forest"
      ],
      "metadata": {
        "id": "2mT8J2HPCKHL"
      }
    },
    {
      "cell_type": "code",
      "source": [
        "predictions = random_classifier.predict(features_test)"
      ],
      "metadata": {
        "id": "KO3_vmkcCQgh"
      },
      "execution_count": 34,
      "outputs": []
    },
    {
      "cell_type": "code",
      "source": [
        "print(classification_report(target_test, predictions))"
      ],
      "metadata": {
        "colab": {
          "base_uri": "https://localhost:8080/"
        },
        "id": "SiGkE1RkCzRV",
        "outputId": "b3393978-e298-40a4-9f9e-0d312623f8d6"
      },
      "execution_count": 36,
      "outputs": [
        {
          "output_type": "stream",
          "name": "stdout",
          "text": [
            "              precision    recall  f1-score   support\n",
            "\n",
            "           0       0.81      0.94      0.87       446\n",
            "           1       0.78      0.52      0.62       197\n",
            "\n",
            "    accuracy                           0.81       643\n",
            "   macro avg       0.80      0.73      0.75       643\n",
            "weighted avg       0.81      0.81      0.80       643\n",
            "\n"
          ]
        }
      ]
    },
    {
      "cell_type": "markdown",
      "source": [
        "## Summary of Findings and Recommendations"
      ],
      "metadata": {
        "id": "nCx4V1pKeqD0"
      }
    },
    {
      "cell_type": "markdown",
      "source": [
        "Random Forest Classifier had the best accuracy score of 80%\n",
        "\n",
        "Megaline mobile carrier can rely on the Random Forest Model to recommend Ultra or Smart plans to customers"
      ],
      "metadata": {
        "id": "ESHSPoDFFna4"
      }
    }
  ]
}